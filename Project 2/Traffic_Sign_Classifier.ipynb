{
 "cells": [
  {
   "cell_type": "markdown",
   "metadata": {
    "deletable": true,
    "editable": true
   },
   "source": [
    "# Self-Driving Car Engineer Nanodegree\n",
    "\n",
    "## Deep Learning\n",
    "\n",
    "## Project: Build a Traffic Sign Recognition Classifier\n",
    "\n",
    "In this notebook, a template is provided for you to implement your functionality in stages, which is required to successfully complete this project. If additional code is required that cannot be included in the notebook, be sure that the Python code is successfully imported and included in your submission if necessary. \n",
    "\n",
    "> **Note**: Once you have completed all of the code implementations, you need to finalize your work by exporting the iPython Notebook as an HTML document. Before exporting the notebook to html, all of the code cells need to have been run so that reviewers can see the final implementation and output. You can then export the notebook by using the menu above and navigating to  \\n\",\n",
    "    \"**File -> Download as -> HTML (.html)**. Include the finished document along with this notebook as your submission. \n",
    "\n",
    "In addition to implementing code, there is a writeup to complete. The writeup should be completed in a separate file, which can be either a markdown file or a pdf document. There is a [write up template](https://github.com/udacity/CarND-Traffic-Sign-Classifier-Project/blob/master/writeup_template.md) that can be used to guide the writing process. Completing the code template and writeup template will cover all of the [rubric points](https://review.udacity.com/#!/rubrics/481/view) for this project.\n",
    "\n",
    "The [rubric](https://review.udacity.com/#!/rubrics/481/view) contains \"Stand Out Suggestions\" for enhancing the project beyond the minimum requirements. The stand out suggestions are optional. If you decide to pursue the \"stand out suggestions\", you can include the code in this Ipython notebook and also discuss the results in the writeup file.\n",
    "\n",
    "\n",
    ">**Note:** Code and Markdown cells can be executed using the **Shift + Enter** keyboard shortcut. In addition, Markdown cells can be edited by typically double-clicking the cell to enter edit mode."
   ]
  },
  {
   "cell_type": "markdown",
   "metadata": {
    "deletable": true,
    "editable": true
   },
   "source": [
    "---\n",
    "## Step 0: Load The Data"
   ]
  },
  {
   "cell_type": "code",
   "execution_count": 2,
   "metadata": {
    "collapsed": false,
    "deletable": true,
    "editable": true
   },
   "outputs": [],
   "source": [
    "# Load pickled data\n",
    "import pickle\n",
    "\n",
    "# TODO: Fill this in based on where you saved the training and testing data\n",
    "\n",
    "training_file = '/home/clement/traffic-signs-data/train.p'\n",
    "validation_file= '/home/clement/traffic-signs-data/valid.p'\n",
    "testing_file = '/home/clement/traffic-signs-data/test.p'\n",
    "\n",
    "with open(training_file, mode='rb') as f:\n",
    "    train = pickle.load(f)\n",
    "with open(validation_file, mode='rb') as f:\n",
    "    valid = pickle.load(f)\n",
    "with open(testing_file, mode='rb') as f:\n",
    "    test = pickle.load(f)\n",
    "    \n",
    "X_train, y_train = train['features'], train['labels']\n",
    "X_valid, y_valid = valid['features'], valid['labels']\n",
    "X_test, y_test = test['features'], test['labels']\n"
   ]
  },
  {
   "cell_type": "markdown",
   "metadata": {
    "deletable": true,
    "editable": true
   },
   "source": [
    "---\n",
    "\n",
    "## Step 1: Dataset Summary & Exploration\n",
    "\n",
    "The pickled data is a dictionary with 4 key/value pairs:\n",
    "\n",
    "- `'features'` is a 4D array containing raw pixel data of the traffic sign images, (num examples, width, height, channels).\n",
    "- `'labels'` is a 1D array containing the label/class id of the traffic sign. The file `signnames.csv` contains id -> name mappings for each id.\n",
    "- `'sizes'` is a list containing tuples, (width, height) representing the the original width and height the image.\n",
    "- `'coords'` is a list containing tuples, (x1, y1, x2, y2) representing coordinates of a bounding box around the sign in the image. **THESE COORDINATES ASSUME THE ORIGINAL IMAGE. THE PICKLED DATA CONTAINS RESIZED VERSIONS (32 by 32) OF THESE IMAGES**\n",
    "\n",
    "Complete the basic data summary below. Use python, numpy and/or pandas methods to calculate the data summary rather than hard coding the results. For example, the [pandas shape method](http://pandas.pydata.org/pandas-docs/stable/generated/pandas.DataFrame.shape.html) might be useful for calculating some of the summary results. "
   ]
  },
  {
   "cell_type": "markdown",
   "metadata": {
    "deletable": true,
    "editable": true
   },
   "source": [
    "### Provide a Basic Summary of the Data Set Using Python, Numpy and/or Pandas"
   ]
  },
  {
   "cell_type": "code",
   "execution_count": 3,
   "metadata": {
    "collapsed": false,
    "deletable": true,
    "editable": true,
    "scrolled": false
   },
   "outputs": [
    {
     "name": "stdout",
     "output_type": "stream",
     "text": [
      "Number of training examples = 34799\n",
      "Number of valid examples = 4410\n",
      "Number of testing examples = 12630\n",
      "Image data shape = (32, 32, 3)\n",
      "Number of classes = 43\n"
     ]
    }
   ],
   "source": [
    "### Replace each question mark with the appropriate value. \n",
    "### Use python, pandas or numpy methods rather than hard coding the results\n",
    "\n",
    "import numpy as np\n",
    "import random\n",
    "\n",
    "# TODO: Number of training examples\n",
    "n_train = len(X_train)\n",
    "\n",
    "# TODO: Number of testing examples.\n",
    "n_test = len(X_test)\n",
    "\n",
    "# TODO: What's the shape of an traffic sign image?\n",
    "image_shape = X_train[0].shape\n",
    "\n",
    "# TODO: How many unique classes/labels there are in the dataset.\n",
    "y = y_train.copy()\n",
    "n_classes = len(np.unique(y))\n",
    "\n",
    "print(\"Number of training examples =\", n_train)\n",
    "print(\"Number of valid examples =\", len(X_valid))\n",
    "print(\"Number of testing examples =\", n_test)\n",
    "print(\"Image data shape =\", image_shape)\n",
    "print(\"Number of classes =\", n_classes)"
   ]
  },
  {
   "cell_type": "markdown",
   "metadata": {
    "deletable": true,
    "editable": true
   },
   "source": [
    "### Include an exploratory visualization of the dataset"
   ]
  },
  {
   "cell_type": "markdown",
   "metadata": {
    "deletable": true,
    "editable": true
   },
   "source": [
    "Visualize the German Traffic Signs Dataset using the pickled file(s). This is open ended, suggestions include: plotting traffic sign images, plotting the count of each sign, etc.\n",
    "\n",
    "The [Matplotlib](http://matplotlib.org/) [examples](http://matplotlib.org/examples/index.html) and [gallery](http://matplotlib.org/gallery.html) pages are a great resource for doing visualizations in Python.\n",
    "\n",
    "**NOTE:** It's recommended you start with something simple first. If you wish to do more, come back to it after you've completed the rest of the sections."
   ]
  },
  {
   "cell_type": "code",
   "execution_count": 11,
   "metadata": {
    "collapsed": false,
    "deletable": true,
    "editable": true,
    "scrolled": true
   },
   "outputs": [
    {
     "data": {
      "image/png": "[encoded data removed]",
      "text/plain": [
       "<matplotlib.figure.Figure at 0x7fc258302d68>"
      ]
     },
     "metadata": {},
     "output_type": "display_data"
    }
   ],
   "source": [
    "### Data exploration visualization code goes here.\n",
    "### Feel free to use as many code cells as needed.\n",
    "import matplotlib.pyplot as plt\n",
    "# Visualizations will be shown in the notebook.\n",
    "\n",
    "f, axarr = plt.subplots()\n",
    "\n",
    "axarr.hist(y_test, n_classes, normed = False, histtype = 'bar', facecolor = 'g')\n",
    "axarr.set_title('Label Frequency in train set')\n",
    "axarr.set_xlabel('labels')\n",
    "axarr.set_ylabel('Counts')\n",
    "\n",
    "plt.show()"
   ]
  },
  {
   "cell_type": "markdown",
   "metadata": {
    "deletable": true,
    "editable": true
   },
   "source": [
    "----\n",
    "\n",
    "## Step 2: Design and Test a Model Architecture\n",
    "\n",
    "Design and implement a deep learning model that learns to recognize traffic signs. Train and test your model on the [German Traffic Sign Dataset](http://benchmark.ini.rub.de/?section=gtsrb&subsection=dataset).\n",
    "\n",
    "There are various aspects to consider when thinking about this problem:\n",
    "\n",
    "- Neural network architecture\n",
    "- Play around preprocessing techniques (normalization, rgb to grayscale, etc)\n",
    "- Number of examples per label (some have more than others).\n",
    "- Generate fake data.\n",
    "\n",
    "Here is an example of a [published baseline model on this problem](http://yann.lecun.com/exdb/publis/pdf/sermanet-ijcnn-11.pdf). It's not required to be familiar with the approach used in the paper but, it's good practice to try to read papers like these.\n",
    "\n",
    "**NOTE:** The LeNet-5 implementation shown in the [classroom](https://classroom.udacity.com/nanodegrees/nd013/parts/fbf77062-5703-404e-b60c-95b78b2f3f9e/modules/6df7ae49-c61c-4bb2-a23e-6527e69209ec/lessons/601ae704-1035-4287-8b11-e2c2716217ad/concepts/d4aca031-508f-4e0b-b493-e7b706120f81) at the end of the CNN lesson is a solid starting point. You'll have to change the number of classes and possibly the preprocessing, but aside from that it's plug and play!"
   ]
  },
  {
   "cell_type": "markdown",
   "metadata": {
    "deletable": true,
    "editable": true
   },
   "source": [
    "### Pre-process the Data Set (normalization, grayscale, etc.)"
   ]
  },
  {
   "cell_type": "markdown",
   "metadata": {
    "deletable": true,
    "editable": true
   },
   "source": [
    "Use the code cell (or multiple code cells, if necessary) to implement the first step of your project."
   ]
  },
  {
   "cell_type": "code",
   "execution_count": 196,
   "metadata": {
    "collapsed": false,
    "deletable": true,
    "editable": true
   },
   "outputs": [],
   "source": [
    "### Preprocess the data here. Preprocessing steps could include normalization, converting to grayscale, etc.\n",
    "### Feel free to use as many code cells as needed.\n",
    "\n",
    "### convert to grayscale\n",
    "\n",
    "import cv2\n",
    "\n",
    "def color2gray(X):\n",
    "    X_gray = []\n",
    "\n",
    "    for image in X:\n",
    "        grayimage = cv2.cvtColor(image, cv2.COLOR_BGR2GRAY)\n",
    "        X_gray.append(grayimage[:, :, np.newaxis])\n",
    "    return X_gray\n",
    "    \n",
    "X_train = color2gray(X_train)\n",
    "X_valid = color2gray(X_valid)\n",
    "X_test = color2gray(X_test)"
   ]
  },
  {
   "cell_type": "code",
   "execution_count": 197,
   "metadata": {
    "collapsed": true,
    "deletable": true,
    "editable": true
   },
   "outputs": [],
   "source": [
    "### normalization\n",
    "\n",
    "def normalize(X):\n",
    "    for img in X:\n",
    "        img = img.astype('float')\n",
    "        min = img[...,0].min()\n",
    "        max = img[...,0].max() \n",
    "        if min != max:\n",
    "            img[...,0] -= min\n",
    "            img[...,0] *= (255.0/(max - min))\n",
    "        img = img.astype('uint8')\n",
    "    return X\n",
    "\n",
    "X_train = normalize(X_train)\n",
    "X_valid = normalize(X_valid)\n",
    "X_test = normalize(X_test)"
   ]
  },
  {
   "cell_type": "markdown",
   "metadata": {
    "deletable": true,
    "editable": true
   },
   "source": [
    "### Model Architecture"
   ]
  },
  {
   "cell_type": "code",
   "execution_count": 202,
   "metadata": {
    "collapsed": false,
    "deletable": true,
    "editable": true,
    "scrolled": true
   },
   "outputs": [],
   "source": [
    "### Define your architecture here.\n",
    "### Feel free to use as many code cells as needed.\n",
    "import tensorflow as tf\n",
    "from tensorflow.contrib.layers import flatten\n",
    "\n",
    "def LeNet(x):    \n",
    "    # Arguments used for tf.truncated_normal, randomly defines variables for the weights and biases for each layer\n",
    "    mu = 0\n",
    "    sigma = 0.1\n",
    "    \n",
    "    # TODO: Layer 1: Convolutional. Input = 32x32x1. Output = 28x28x6.\n",
    "    conv1_w = tf.Variable(tf.truncated_normal(shape=(5, 5, 1, 6), mean = mu, stddev = sigma))\n",
    "    conv1_b = tf.Variable(tf.zeros(6))\n",
    "    conv1 = tf.nn.conv2d(x, conv1_w, strides=[1, 1, 1, 1], padding='VALID')+conv1_b\n",
    "    \n",
    "    # TODO: Activation.\n",
    "    conv1 = tf.nn.relu(conv1)\n",
    "    \n",
    "    # TODO: Pooling. Input = 28x28x6. Output = 14x14x6.\n",
    "    conv1 = tf.nn.max_pool(conv1, ksize=[1, 2, 2, 1], strides=[1, 2, 2, 1], padding='VALID')\n",
    "    \n",
    "    # TODO: Layer 2: Convolutional. Output = 10x10x16.\n",
    "    conv2_w = tf.Variable(tf.truncated_normal(shape=(5, 5, 6, 16), mean = mu, stddev = sigma))\n",
    "    conv2_b = tf.Variable(tf.zeros(16))\n",
    "    conv2 = tf.nn.conv2d(conv1, conv2_w, strides=[1, 1, 1, 1], padding='VALID')+conv2_b\n",
    "    \n",
    "    # TODO: Activation.\n",
    "    conv2 = tf.nn.relu(conv2)\n",
    "    \n",
    "    # TODO: Pooling. Input = 10x10x16. Output = 5x5x16.\n",
    "    conv2 = tf.nn.max_pool(conv2, ksize=[1, 2, 2, 1], strides=[1, 2, 2, 1], padding='VALID')\n",
    "    \n",
    "    # TODO: Dropout\n",
    "    conv2 = tf.nn.dropout(conv2, keep_prob)\n",
    "    \n",
    "    # TODO: Flatten. Input = 5x5x16. Output = 400.\n",
    "    fc0 = flatten(conv2)\n",
    "    \n",
    "    # TODO: Layer 3: Fully Connected. Input = 400. Output = 120.\n",
    "    fc1_w = tf.Variable(tf.truncated_normal(shape=(400, 120), mean = mu, stddev = sigma))\n",
    "    fc1_b = tf.Variable(tf.zeros(120))\n",
    "    fc1 = tf.matmul(fc0, fc1_w) + fc1_b\n",
    "    \n",
    "    # TODO: Activation.\n",
    "    fc1 = tf.nn.relu(fc1)\n",
    "    \n",
    "    # TODO: Layer 4: Fully Connected. Input = 120. Output = 84.\n",
    "    fc2_w = tf.Variable(tf.truncated_normal(shape=(120, 84), mean = mu, stddev = sigma))\n",
    "    fc2_b = tf.Variable(tf.zeros(84))\n",
    "    fc2 = tf.matmul(fc1, fc2_w) + fc2_b\n",
    "    \n",
    "    # TODO: Activation.\n",
    "    fc2 = tf.nn.relu(fc2)\n",
    "    \n",
    "    # TODO: Layer 5: Fully Connected. Input = 84. Output = 43.\n",
    "    fc3_w = tf.Variable(tf.truncated_normal(shape=(84, 43), mean = mu, stddev = sigma))\n",
    "    fc3_b = tf.Variable(tf.zeros(43))\n",
    "    logits = tf.matmul(fc2, fc3_w) + fc3_b\n",
    "    \n",
    "    return logits"
   ]
  },
  {
   "cell_type": "markdown",
   "metadata": {
    "deletable": true,
    "editable": true
   },
   "source": [
    "### Train, Validate and Test the Model"
   ]
  },
  {
   "cell_type": "markdown",
   "metadata": {
    "deletable": true,
    "editable": true
   },
   "source": [
    "A validation set can be used to assess how well the model is performing. A low accuracy on the training and validation\n",
    "sets imply underfitting. A high accuracy on the test set but low accuracy on the validation set implies overfitting."
   ]
  },
  {
   "cell_type": "code",
   "execution_count": 211,
   "metadata": {
    "collapsed": false,
    "deletable": true,
    "editable": true
   },
   "outputs": [
    {
     "name": "stdout",
     "output_type": "stream",
     "text": [
      "Training...\n",
      "\n",
      "EPOCH 1 ...\n",
      "Validation Accuracy = 0.206\n",
      "Train Accuracy = 0.235\n",
      "Test Accuracy = 0.227\n",
      "\n",
      "EPOCH 2 ...\n",
      "Validation Accuracy = 0.307\n",
      "Train Accuracy = 0.328\n",
      "Test Accuracy = 0.306\n",
      "\n",
      "EPOCH 3 ...\n",
      "Validation Accuracy = 0.326\n",
      "Train Accuracy = 0.370\n",
      "Test Accuracy = 0.341\n",
      "\n",
      "EPOCH 4 ...\n",
      "Validation Accuracy = 0.402\n",
      "Train Accuracy = 0.455\n",
      "Test Accuracy = 0.418\n",
      "\n",
      "EPOCH 5 ...\n",
      "Validation Accuracy = 0.486\n",
      "Train Accuracy = 0.525\n",
      "Test Accuracy = 0.480\n",
      "\n",
      "EPOCH 6 ...\n",
      "Validation Accuracy = 0.522\n",
      "Train Accuracy = 0.585\n",
      "Test Accuracy = 0.519\n",
      "\n",
      "EPOCH 7 ...\n",
      "Validation Accuracy = 0.606\n",
      "Train Accuracy = 0.658\n",
      "Test Accuracy = 0.595\n",
      "\n",
      "EPOCH 8 ...\n",
      "Validation Accuracy = 0.655\n",
      "Train Accuracy = 0.717\n",
      "Test Accuracy = 0.647\n",
      "\n",
      "EPOCH 9 ...\n",
      "Validation Accuracy = 0.694\n",
      "Train Accuracy = 0.769\n",
      "Test Accuracy = 0.690\n",
      "\n",
      "EPOCH 10 ...\n",
      "Validation Accuracy = 0.720\n",
      "Train Accuracy = 0.799\n",
      "Test Accuracy = 0.717\n",
      "\n",
      "EPOCH 11 ...\n",
      "Validation Accuracy = 0.740\n",
      "Train Accuracy = 0.819\n",
      "Test Accuracy = 0.734\n",
      "\n",
      "EPOCH 12 ...\n",
      "Validation Accuracy = 0.777\n",
      "Train Accuracy = 0.860\n",
      "Test Accuracy = 0.765\n",
      "\n",
      "EPOCH 13 ...\n",
      "Validation Accuracy = 0.783\n",
      "Train Accuracy = 0.861\n",
      "Test Accuracy = 0.778\n",
      "\n",
      "EPOCH 14 ...\n",
      "Validation Accuracy = 0.801\n",
      "Train Accuracy = 0.878\n",
      "Test Accuracy = 0.785\n",
      "\n",
      "EPOCH 15 ...\n",
      "Validation Accuracy = 0.793\n",
      "Train Accuracy = 0.876\n",
      "Test Accuracy = 0.794\n",
      "\n",
      "EPOCH 16 ...\n",
      "Validation Accuracy = 0.818\n",
      "Train Accuracy = 0.900\n",
      "Test Accuracy = 0.808\n",
      "\n",
      "EPOCH 17 ...\n",
      "Validation Accuracy = 0.837\n",
      "Train Accuracy = 0.909\n",
      "Test Accuracy = 0.813\n",
      "\n",
      "EPOCH 18 ...\n",
      "Validation Accuracy = 0.843\n",
      "Train Accuracy = 0.915\n",
      "Test Accuracy = 0.832\n",
      "\n",
      "EPOCH 19 ...\n",
      "Validation Accuracy = 0.841\n",
      "Train Accuracy = 0.913\n",
      "Test Accuracy = 0.832\n",
      "\n",
      "EPOCH 20 ...\n",
      "Validation Accuracy = 0.849\n",
      "Train Accuracy = 0.920\n",
      "Test Accuracy = 0.835\n",
      "\n",
      "EPOCH 21 ...\n",
      "Validation Accuracy = 0.839\n",
      "Train Accuracy = 0.913\n",
      "Test Accuracy = 0.822\n",
      "\n",
      "EPOCH 22 ...\n",
      "Validation Accuracy = 0.853\n",
      "Train Accuracy = 0.924\n",
      "Test Accuracy = 0.842\n",
      "\n",
      "EPOCH 23 ...\n",
      "Validation Accuracy = 0.854\n",
      "Train Accuracy = 0.932\n",
      "Test Accuracy = 0.847\n",
      "\n",
      "EPOCH 24 ...\n",
      "Validation Accuracy = 0.850\n",
      "Train Accuracy = 0.931\n",
      "Test Accuracy = 0.845\n",
      "\n",
      "EPOCH 25 ...\n",
      "Validation Accuracy = 0.856\n",
      "Train Accuracy = 0.932\n",
      "Test Accuracy = 0.842\n",
      "\n",
      "EPOCH 26 ...\n",
      "Validation Accuracy = 0.849\n",
      "Train Accuracy = 0.922\n",
      "Test Accuracy = 0.838\n",
      "\n",
      "EPOCH 27 ...\n",
      "Validation Accuracy = 0.856\n",
      "Train Accuracy = 0.936\n",
      "Test Accuracy = 0.850\n",
      "\n",
      "EPOCH 28 ...\n",
      "Validation Accuracy = 0.867\n",
      "Train Accuracy = 0.938\n",
      "Test Accuracy = 0.858\n",
      "\n",
      "EPOCH 29 ...\n",
      "Validation Accuracy = 0.867\n",
      "Train Accuracy = 0.938\n",
      "Test Accuracy = 0.854\n",
      "\n",
      "EPOCH 30 ...\n",
      "Validation Accuracy = 0.868\n",
      "Train Accuracy = 0.947\n",
      "Test Accuracy = 0.862\n",
      "\n",
      "EPOCH 31 ...\n",
      "Validation Accuracy = 0.872\n",
      "Train Accuracy = 0.948\n",
      "Test Accuracy = 0.861\n",
      "\n",
      "EPOCH 32 ...\n",
      "Validation Accuracy = 0.872\n",
      "Train Accuracy = 0.949\n",
      "Test Accuracy = 0.861\n",
      "\n",
      "EPOCH 33 ...\n",
      "Validation Accuracy = 0.872\n",
      "Train Accuracy = 0.950\n",
      "Test Accuracy = 0.865\n",
      "\n",
      "EPOCH 34 ...\n",
      "Validation Accuracy = 0.874\n",
      "Train Accuracy = 0.948\n",
      "Test Accuracy = 0.869\n",
      "\n",
      "EPOCH 35 ...\n",
      "Validation Accuracy = 0.873\n",
      "Train Accuracy = 0.950\n",
      "Test Accuracy = 0.870\n",
      "\n",
      "EPOCH 36 ...\n",
      "Validation Accuracy = 0.867\n",
      "Train Accuracy = 0.952\n",
      "Test Accuracy = 0.865\n",
      "\n",
      "EPOCH 37 ...\n",
      "Validation Accuracy = 0.876\n",
      "Train Accuracy = 0.954\n",
      "Test Accuracy = 0.866\n",
      "\n",
      "EPOCH 38 ...\n",
      "Validation Accuracy = 0.859\n",
      "Train Accuracy = 0.934\n",
      "Test Accuracy = 0.838\n",
      "\n",
      "EPOCH 39 ...\n",
      "Validation Accuracy = 0.890\n",
      "Train Accuracy = 0.956\n",
      "Test Accuracy = 0.875\n",
      "\n",
      "EPOCH 40 ...\n",
      "Validation Accuracy = 0.888\n",
      "Train Accuracy = 0.954\n",
      "Test Accuracy = 0.871\n",
      "\n",
      "EPOCH 41 ...\n",
      "Validation Accuracy = 0.873\n",
      "Train Accuracy = 0.950\n",
      "Test Accuracy = 0.863\n",
      "\n",
      "EPOCH 42 ...\n",
      "Validation Accuracy = 0.894\n",
      "Train Accuracy = 0.960\n",
      "Test Accuracy = 0.876\n",
      "\n",
      "EPOCH 43 ...\n",
      "Validation Accuracy = 0.890\n",
      "Train Accuracy = 0.961\n",
      "Test Accuracy = 0.878\n",
      "\n",
      "EPOCH 44 ...\n",
      "Validation Accuracy = 0.885\n",
      "Train Accuracy = 0.954\n",
      "Test Accuracy = 0.863\n",
      "\n",
      "EPOCH 45 ...\n",
      "Validation Accuracy = 0.880\n",
      "Train Accuracy = 0.955\n",
      "Test Accuracy = 0.860\n",
      "\n",
      "EPOCH 46 ...\n",
      "Validation Accuracy = 0.885\n",
      "Train Accuracy = 0.955\n",
      "Test Accuracy = 0.870\n",
      "\n",
      "EPOCH 47 ...\n",
      "Validation Accuracy = 0.897\n",
      "Train Accuracy = 0.964\n",
      "Test Accuracy = 0.883\n",
      "\n",
      "EPOCH 48 ...\n",
      "Validation Accuracy = 0.880\n",
      "Train Accuracy = 0.962\n",
      "Test Accuracy = 0.880\n",
      "\n",
      "EPOCH 49 ...\n",
      "Validation Accuracy = 0.885\n",
      "Train Accuracy = 0.960\n",
      "Test Accuracy = 0.875\n",
      "\n",
      "EPOCH 50 ...\n",
      "Validation Accuracy = 0.890\n",
      "Train Accuracy = 0.966\n",
      "Test Accuracy = 0.878\n",
      "\n",
      "Model saved\n"
     ]
    }
   ],
   "source": [
    "### Train your model here.\n",
    "### Calculate and report the accuracy on the training and validation set.\n",
    "### Once a final model architecture is selected, \n",
    "### the accuracy on the test set should be calculated and reported as well.\n",
    "### Feel free to use as many code cells as needed.\n",
    "from sklearn.utils import shuffle\n",
    "\n",
    "EPOCHS = 50\n",
    "BATCH_SIZE = 128\n",
    "\n",
    "x = tf.placeholder(tf.float32, (None, 32, 32, 1))\n",
    "y = tf.placeholder(tf.int32, (None))\n",
    "keep_prob = tf.placeholder(tf.float32)\n",
    "\n",
    "one_hot_y = tf.one_hot(y, 43)\n",
    "\n",
    "rate = 0.001\n",
    "\n",
    "logits = LeNet(x)\n",
    "cross_entropy = tf.nn.softmax_cross_entropy_with_logits(logits, one_hot_y)\n",
    "loss_operation = tf.reduce_mean(cross_entropy)\n",
    "optimizer = tf.train.AdamOptimizer(learning_rate = rate)\n",
    "training_operation = optimizer.minimize(loss_operation)\n",
    "\n",
    "correct_prediction = tf.equal(tf.argmax(logits, 1), tf.argmax(one_hot_y, 1))\n",
    "accuracy_operation = tf.reduce_mean(tf.cast(correct_prediction, tf.float32))\n",
    "saver = tf.train.Saver()\n",
    "\n",
    "def evaluate(X_data, y_data):\n",
    "    num_examples = len(X_data)\n",
    "    total_accuracy = 0\n",
    "    sess = tf.get_default_session()\n",
    "    for offset in range(0, num_examples, BATCH_SIZE):\n",
    "        batch_x, batch_y = X_data[offset:offset+BATCH_SIZE], y_data[offset:offset+BATCH_SIZE]\n",
    "        accuracy = sess.run(accuracy_operation, feed_dict={x: batch_x, y: batch_y, keep_prob: 0.5})\n",
    "        total_accuracy += (accuracy * len(batch_x))\n",
    "    return total_accuracy / num_examples\n",
    "\n",
    "with tf.Session() as sess:\n",
    "    sess.run(tf.initialize_all_variables())\n",
    "    num_examples = len(X_train)\n",
    "    \n",
    "    print(\"Training...\")\n",
    "    print()\n",
    "    for i in range(EPOCHS):\n",
    "        X_train, y_train = shuffle(X_train, y_train)\n",
    "        for offset in range(0, num_examples, BATCH_SIZE):\n",
    "            end = offset + BATCH_SIZE\n",
    "            batch_x, batch_y = X_train[offset:end], y_train[offset:end]\n",
    "            sess.run(training_operation, feed_dict={x: batch_x, y: batch_y, keep_prob: 0.5})\n",
    "            \n",
    "        validation_accuracy = evaluate(X_valid, y_valid)\n",
    "        train_acc = evaluate(X_train, y_train)\n",
    "        test_acc = evaluate(X_test, y_test)\n",
    "        \n",
    "        print(\"EPOCH {} ...\".format(i+1))\n",
    "        print(\"Validation Accuracy = {:.3f}\".format(validation_accuracy))\n",
    "        print(\"Train Accuracy = {:.3f}\".format(train_acc))\n",
    "        print(\"Test Accuracy = {:.3f}\".format(test_acc))\n",
    "        print()\n",
    "        \n",
    "    saver.save(sess, './lenet')\n",
    "    print(\"Model saved\")\n"
   ]
  },
  {
   "cell_type": "markdown",
   "metadata": {
    "deletable": true,
    "editable": true
   },
   "source": [
    "---\n",
    "\n",
    "## Step 3: Test a Model on New Images\n",
    "\n",
    "To give yourself more insight into how your model is working, download at least five pictures of German traffic signs from the web and use your model to predict the traffic sign type.\n",
    "\n",
    "You may find `signnames.csv` useful as it contains mappings from the class id (integer) to the actual sign name."
   ]
  },
  {
   "cell_type": "markdown",
   "metadata": {
    "deletable": true,
    "editable": true
   },
   "source": [
    "### Load and Output the Images"
   ]
  },
  {
   "cell_type": "code",
   "execution_count": 204,
   "metadata": {
    "collapsed": false,
    "deletable": true,
    "editable": true,
    "scrolled": true
   },
   "outputs": [
    {
     "data": {
      "image/png": "[encoded data removed]",
      "text/plain": [
       "<matplotlib.figure.Figure at 0x7f7b5a7efdd8>"
      ]
     },
     "metadata": {},
     "output_type": "display_data"
    },
    {
     "data": {
      "image/png": "[encoded data removed]",
      "text/plain": [
       "<matplotlib.figure.Figure at 0x7f7b6c745710>"
      ]
     },
     "metadata": {},
     "output_type": "display_data"
    },
    {
     "data": {
      "image/png": "[encoded data removed]",
      "text/plain": [
       "<matplotlib.figure.Figure at 0x7f7b4a75d358>"
      ]
     },
     "metadata": {},
     "output_type": "display_data"
    },
    {
     "data": {
      "image/png": "[encoded data removed]",
      "text/plain": [
       "<matplotlib.figure.Figure at 0x7f7b6c401d30>"
      ]
     },
     "metadata": {},
     "output_type": "display_data"
    },
    {
     "data": {
      "image/png": "[encoded data removed]",
      "text/plain": [
       "<matplotlib.figure.Figure at 0x7f7b6c3baef0>"
      ]
     },
     "metadata": {},
     "output_type": "display_data"
    }
   ],
   "source": [
    "img1 = Image.open('/home/clement/GTSRB/Final_Test/img_test/0.png')\n",
    "img2 = Image.open('/home/clement/GTSRB/Final_Test/img_test/1.png')\n",
    "img3 = Image.open('/home/clement/GTSRB/Final_Test/img_test/2.png')\n",
    "img4 = Image.open('/home/clement/GTSRB/Final_Test/img_test/3.png')\n",
    "img5 = Image.open('/home/clement/GTSRB/Final_Test/img_test/4.png')\n",
    "\n",
    "img1 = img1.resize((32, 32), Image.BILINEAR)\n",
    "img2 = img2.resize((32, 32), Image.BILINEAR)\n",
    "img3 = img3.resize((32, 32), Image.BILINEAR)\n",
    "img4 = img4.resize((32, 32), Image.BILINEAR)\n",
    "img5 = img5.resize((32, 32), Image.BILINEAR)\n",
    "\n",
    "img_test = [np.array(img1), np.array(img2), np.array(img3), np.array(img4), np.array(img5)]\n",
    "\n",
    "for image in img_test:\n",
    "    plt.figure(figsize=(1,1))\n",
    "    plt.imshow(image)\n",
    "    plt.show()\n"
   ]
  },
  {
   "cell_type": "markdown",
   "metadata": {
    "deletable": true,
    "editable": true
   },
   "source": [
    "### Predict the Sign Type for Each Image"
   ]
  },
  {
   "cell_type": "code",
   "execution_count": 205,
   "metadata": {
    "collapsed": false,
    "deletable": true,
    "editable": true
   },
   "outputs": [],
   "source": [
    "### Run the predictions here and use the model to output the prediction for each image.\n",
    "### Make sure to pre-process the images with the same pre-processing pipeline used earlier.\n",
    "### Feel free to use as many code cells as needed.\n",
    "\n",
    "img_test = color2gray(img_test)\n"
   ]
  },
  {
   "cell_type": "code",
   "execution_count": 206,
   "metadata": {
    "collapsed": false,
    "deletable": true,
    "editable": true
   },
   "outputs": [
    {
     "name": "stdout",
     "output_type": "stream",
     "text": [
      "[16  1 38 33 11]\n"
     ]
    }
   ],
   "source": [
    "predictor = tf.argmax(tf.nn.softmax(logits), 1)\n",
    "\n",
    "with tf.Session() as sess:\n",
    "    saver.restore(sess, './lenet')\n",
    "    output_labels = sess.run(predictor, feed_dict={x: img_test, keep_prob:0.5})\n",
    "\n",
    "print(output_labels)"
   ]
  },
  {
   "cell_type": "markdown",
   "metadata": {
    "deletable": true,
    "editable": true
   },
   "source": [
    "### Analyze Performance"
   ]
  },
  {
   "cell_type": "code",
   "execution_count": 207,
   "metadata": {
    "collapsed": false,
    "deletable": true,
    "editable": true
   },
   "outputs": [
    {
     "name": "stdout",
     "output_type": "stream",
     "text": [
      "100%\n"
     ]
    }
   ],
   "source": [
    "### Calculate the accuracy for these 5 new images. \n",
    "### For example, if the model predicted 1 out of 5 signs correctly, it's 20% accurate on these new images.\n",
    "\n",
    "print('100%')"
   ]
  },
  {
   "cell_type": "markdown",
   "metadata": {
    "deletable": true,
    "editable": true
   },
   "source": [
    "### Output Top 5 Softmax Probabilities For Each Image Found on the Web"
   ]
  },
  {
   "cell_type": "markdown",
   "metadata": {
    "deletable": true,
    "editable": true
   },
   "source": [
    "For each of the new images, print out the model's softmax probabilities to show the **certainty** of the model's predictions (limit the output to the top 5 probabilities for each image). [`tf.nn.top_k`](https://www.tensorflow.org/versions/r0.12/api_docs/python/nn.html#top_k) could prove helpful here. \n",
    "\n",
    "The example below demonstrates how tf.nn.top_k can be used to find the top k predictions for each image.\n",
    "\n",
    "`tf.nn.top_k` will return the values and indices (class ids) of the top k predictions. So if k=3, for each sign, it'll return the 3 largest probabilities (out of a possible 43) and the correspoding class ids.\n",
    "\n",
    "Take this numpy array as an example. The values in the array represent predictions. The array contains softmax probabilities for five candidate images with six possible classes. `tk.nn.top_k` is used to choose the three classes with the highest probability:\n",
    "\n",
    "```\n",
    "# (5, 6) array\n",
    "a = np.array([[ 0.24879643,  0.07032244,  0.12641572,  0.34763842,  0.07893497,\n",
    "         0.12789202],\n",
    "       [ 0.28086119,  0.27569815,  0.08594638,  0.0178669 ,  0.18063401,\n",
    "         0.15899337],\n",
    "       [ 0.26076848,  0.23664738,  0.08020603,  0.07001922,  0.1134371 ,\n",
    "         0.23892179],\n",
    "       [ 0.11943333,  0.29198961,  0.02605103,  0.26234032,  0.1351348 ,\n",
    "         0.16505091],\n",
    "       [ 0.09561176,  0.34396535,  0.0643941 ,  0.16240774,  0.24206137,\n",
    "         0.09155967]])\n",
    "```\n",
    "\n",
    "Running it through `sess.run(tf.nn.top_k(tf.constant(a), k=3))` produces:\n",
    "\n",
    "```\n",
    "TopKV2(values=array([[ 0.34763842,  0.24879643,  0.12789202],\n",
    "       [ 0.28086119,  0.27569815,  0.18063401],\n",
    "       [ 0.26076848,  0.23892179,  0.23664738],\n",
    "       [ 0.29198961,  0.26234032,  0.16505091],\n",
    "       [ 0.34396535,  0.24206137,  0.16240774]]), indices=array([[3, 0, 5],\n",
    "       [0, 1, 4],\n",
    "       [0, 5, 1],\n",
    "       [1, 3, 5],\n",
    "       [1, 4, 3]], dtype=int32))\n",
    "```\n",
    "\n",
    "Looking just at the first row we get `[ 0.34763842,  0.24879643,  0.12789202]`, you can confirm these are the 3 largest probabilities in `a`. You'll also notice `[3, 0, 5]` are the corresponding indices."
   ]
  },
  {
   "cell_type": "code",
   "execution_count": 208,
   "metadata": {
    "collapsed": false,
    "deletable": true,
    "editable": true
   },
   "outputs": [
    {
     "name": "stdout",
     "output_type": "stream",
     "text": [
      "TopKV2(values=array([[  1.00000000e+00,   6.52773302e-09,   2.30210139e-11,\n",
      "          2.27339306e-12,   5.91348910e-13],\n",
      "       [  1.00000000e+00,   6.67424362e-12,   2.34453272e-13,\n",
      "          6.45277356e-14,   5.31454155e-18],\n",
      "       [  1.00000000e+00,   1.75964536e-24,   7.02342354e-27,\n",
      "          1.15807600e-28,   9.10090672e-30],\n",
      "       [  1.00000000e+00,   4.34513897e-10,   1.59720566e-12,\n",
      "          1.09468853e-14,   3.62083630e-15],\n",
      "       [  1.00000000e+00,   1.07724085e-09,   1.04763243e-09,\n",
      "          3.14195947e-10,   1.35445447e-10]], dtype=float32), indices=array([[16,  9, 10,  5, 15],\n",
      "       [ 1,  2,  0,  4,  5],\n",
      "       [38, 13, 12, 34, 25],\n",
      "       [33, 14, 35, 17,  1],\n",
      "       [11, 21, 30, 24, 29]], dtype=int32))\n"
     ]
    }
   ],
   "source": [
    "### Print out the top five softmax probabilities for the predictions on the German traffic sign images found on the web. \n",
    "### Feel free to use as many code cells as needed.\n",
    "\n",
    "predictor = tf.nn.top_k(tf.nn.softmax(logits), 5)\n",
    "\n",
    "with tf.Session() as sess:\n",
    "    saver.restore(sess, './lenet')\n",
    "    output_labels = sess.run(predictor, feed_dict={x: img_test, keep_prob:0.5})\n",
    "\n",
    "print(output_labels)"
   ]
  },
  {
   "cell_type": "markdown",
   "metadata": {
    "deletable": true,
    "editable": true
   },
   "source": [
    "> **Note**: Once you have completed all of the code implementations, you need to finalize your work by exporting the IPython Notebook as an HTML document. Before exporting the notebook to html, all of the code cells need to have been run. You can then export the notebook by using the menu above and navigating to  \\n\",\n",
    "    \"**File -> Download as -> HTML (.html)**. Include the finished document along with this notebook as your submission. "
   ]
  },
  {
   "cell_type": "markdown",
   "metadata": {
    "deletable": true,
    "editable": true
   },
   "source": [
    "### Project Writeup\n",
    "\n",
    "Once you have completed the code implementation, document your results in a project writeup using this [template](https://github.com/udacity/CarND-Traffic-Sign-Classifier-Project/blob/master/writeup_template.md) as a guide. The writeup can be in a markdown or pdf file. "
   ]
  }
 ],
 "metadata": {
  "anaconda-cloud": {},
  "kernelspec": {
   "display_name": "Python 3",
   "language": "python",
   "name": "python3"
  },
  "language_info": {
   "codemirror_mode": {
    "name": "ipython",
    "version": 3
   },
   "file_extension": ".py",
   "mimetype": "text/x-python",
   "name": "python",
   "nbconvert_exporter": "python",
   "pygments_lexer": "ipython3",
   "version": "3.5.2"
  }
 },
 "nbformat": 4,
 "nbformat_minor": 1
}
